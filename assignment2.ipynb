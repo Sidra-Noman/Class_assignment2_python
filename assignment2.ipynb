{
  "nbformat": 4,
  "nbformat_minor": 0,
  "metadata": {
    "colab": {
      "provenance": [],
      "authorship_tag": "ABX9TyNdn7uJBmxDEfYI2HuGHMIF",
      "include_colab_link": true
    },
    "kernelspec": {
      "name": "python3",
      "display_name": "Python 3"
    },
    "language_info": {
      "name": "python"
    }
  },
  "cells": [
    {
      "cell_type": "markdown",
      "metadata": {
        "id": "view-in-github",
        "colab_type": "text"
      },
      "source": [
        "<a href=\"https://colab.research.google.com/github/Sidra-Noman/Class_assignment2_python/blob/main/assignment2.ipynb\" target=\"_parent\"><img src=\"https://colab.research.google.com/assets/colab-badge.svg\" alt=\"Open In Colab\"/></a>"
      ]
    },
    {
      "cell_type": "code",
      "source": [
        "# Simple calculator\n",
        "num1 = float(input(\"Enter first number:\"))\n",
        "# float converts strings into decimal numbers\n",
        "operator = input(\"Enter operator (+, -, *, /):\")\n",
        "num2 = float(input(\"Enter second number:\"))\n",
        "\n",
        "# Perform calculation\n",
        "if operator == '+':\n",
        "    print(\"Result:\", num1 + num2)\n",
        "elif operator == '-':\n",
        "    print(\"Result:\", num1 - num2)\n",
        "elif operator == '*':\n",
        "    print(\"Result:\", num1 * num2)\n",
        "elif operator == '/':\n",
        "    print(\"Result:\", num1 / num2 if num2 != 0 else \"Error! Division by zero.\")"
      ],
      "metadata": {
        "colab": {
          "base_uri": "https://localhost:8080/"
        },
        "id": "XyQGPF3N-lqw",
        "outputId": "2c52b5b4-52de-422b-9383-a3c38847a8fb"
      },
      "execution_count": null,
      "outputs": [
        {
          "output_type": "stream",
          "name": "stdout",
          "text": [
            "Enter first number:3\n",
            "Enter operator (+, -, *, /):-\n",
            "Enter second number:1\n",
            "Result: 2.0\n"
          ]
        }
      ]
    },
    {
      "cell_type": "code",
      "source": [
        "# Simple calculator\n",
        "def add(x, y):\n",
        "    return x + y\n",
        "\n",
        "def subtract(x, y):\n",
        "    return x - y\n",
        "\n",
        "def multiply(x, y):\n",
        "    return x * y\n",
        "\n",
        "def divide(x, y):\n",
        "    if y != 0:\n",
        "        return x / y\n",
        "    else:\n",
        "        return \"Error! Division by zero.\"\n",
        "\n",
        "# Function to perform the chosen operation\n",
        "print(\"Select operation:\")\n",
        "print(\"1. Add\")\n",
        "print(\"2. Subtract\")\n",
        "print(\"3. Multiply\")\n",
        "print(\"4. Divide\")\n",
        "\n",
        "# Taking user input for the operation\n",
        "choice = input(\"Enter choice(1/2/3/4): \")\n",
        "\n",
        "# Taking user input for the numbers\n",
        "num1 = float(input(\"Enter first number: \"))\n",
        "num2 = float(input(\"Enter second number: \"))\n",
        "\n",
        "if choice == '1':\n",
        "    print(f\"{num1} + {num2} = {add(num1, num2)}\")\n",
        "elif choice == '2':\n",
        "    print(f\"{num1} - {num2} = {subtract(num1, num2)}\")\n",
        "elif choice == '3':\n",
        "    print(f\"{num1} * {num2} = {multiply(num1, num2)}\")\n",
        "elif choice == '4':\n",
        "    print(f\"{num1} / {num2} = {divide(num1, num2)}\")\n",
        "else:\n",
        "    print(\"Invalid input\")\n"
      ],
      "metadata": {
        "id": "_DX5j_70ACy_"
      },
      "execution_count": null,
      "outputs": []
    },
    {
      "cell_type": "code",
      "source": [
        "# Grading System\n",
        "marks = float(input(\"Enter your marks: \"))\n",
        " # Determine the grade based on the score\n",
        "if marks >= 90:\n",
        "    print(\"Grade=A+ (Excellent)\")\n",
        "elif marks >= 80:\n",
        "    print(\"Grade=A (Very Good)\")\n",
        "elif marks >= 70:\n",
        "    print(\"Grade=B (Good)\")\n",
        "elif marks >= 60:\n",
        "    print(\"Grade=C (Average)\")\n",
        "elif marks >= 50:\n",
        "    print(\"Grade=D (Below Average)\")\n",
        "else:\n",
        "    print(\"Grade=F (You are fail)\")"
      ],
      "metadata": {
        "colab": {
          "base_uri": "https://localhost:8080/"
        },
        "id": "DXh0Oue2A5uR",
        "outputId": "5b0bae89-e166-4b9b-8d2d-ff685fdec88b"
      },
      "execution_count": null,
      "outputs": [
        {
          "output_type": "stream",
          "name": "stdout",
          "text": [
            "Enter your marks: 80\n",
            "Grade=A (Very Good)\n"
          ]
        }
      ]
    }
  ]
}